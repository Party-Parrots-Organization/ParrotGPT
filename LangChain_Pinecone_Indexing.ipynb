{
  "nbformat": 4,
  "nbformat_minor": 0,
  "metadata": {
    "colab": {
      "provenance": []
    },
    "kernelspec": {
      "name": "python3",
      "display_name": "Python 3"
    },
    "language_info": {
      "name": "python"
    }
  },
  "cells": [
    {
      "cell_type": "markdown",
      "source": [
        "# **The purpose of this notebook is to tokenise/embed our documents and upload it to our Pinecone database. Private information has been removed.**"
      ],
      "metadata": {
        "id": "4xrAaUpZ69OM"
      }
    },
    {
      "cell_type": "markdown",
      "source": [
        "Install **Dependencies**"
      ],
      "metadata": {
        "id": "pMhzijqq7Lcm"
      }
    },
    {
      "cell_type": "code",
      "execution_count": null,
      "metadata": {
        "id": "RSnzGlHhdhe4"
      },
      "outputs": [],
      "source": [
        "! pip install --upgrade langchain openai -q\n",
        "!pip install sentence_transformers -q\n",
        "!pip install unstructured -q\n",
        "!pip install unstructured -q\n",
        "!pip install unstructured[local-inference] -q\n",
        "!pip install detectron2@git+https://github.com/facebookresearch/detectron2.git\n",
        "!apt-get install poppler-utils\n",
        "!pip install pytesseract\n",
        "import pytesseract\n",
        "!sudo apt install tesseract-ocr\n",
        "# Required for OpenAI embedding\n",
        "!pip install tiktoken -q\n",
        "!pip install pinecone-client -q"
      ]
    },
    {
      "cell_type": "markdown",
      "source": [
        "**Load the documents in the specified directory.**"
      ],
      "metadata": {
        "id": "8aaGTAyr7XUE"
      }
    },
    {
      "cell_type": "code",
      "source": [
        "from langchain.document_loaders import DirectoryLoader\n",
        "\n",
        "directory = 'data'\n",
        "\n",
        "def load_docs(directory):\n",
        "  loader = DirectoryLoader(directory)\n",
        "  documents = loader.load()\n",
        "  return documents\n",
        "\n",
        "documents = load_docs(directory)\n",
        "len(documents)"
      ],
      "metadata": {
        "id": "ohY-dWmyeWM8"
      },
      "execution_count": null,
      "outputs": []
    },
    {
      "cell_type": "markdown",
      "source": [
        "**Splitting the Text into Chunks**"
      ],
      "metadata": {
        "id": "uN51hbDb7jN1"
      }
    },
    {
      "cell_type": "code",
      "source": [
        "from langchain.text_splitter import RecursiveCharacterTextSplitter\n",
        "\n",
        "def split_docs(documents, chunk_size=1421, chunk_overlap=520):\n",
        "  text_splitter = RecursiveCharacterTextSplitter(chunk_size=chunk_size, chunk_overlap=chunk_overlap)\n",
        "  docs = text_splitter.split_documents(documents)\n",
        "  return docs\n",
        "\n",
        "docs = split_docs(documents)\n",
        "print(len(docs))"
      ],
      "metadata": {
        "id": "7u4K9ncejeep"
      },
      "execution_count": null,
      "outputs": []
    },
    {
      "cell_type": "code",
      "source": [
        "for doc in docs:\n",
        "  print(doc.page_content)\n",
        "  print(\"New\")"
      ],
      "metadata": {
        "id": "oiun55aHkZ61"
      },
      "execution_count": null,
      "outputs": []
    },
    {
      "cell_type": "code",
      "source": [
        "from langchain.embeddings import SentenceTransformerEmbeddings\n",
        "embeddings = SentenceTransformerEmbeddings(model_name=\"all-MiniLM-L6-v2\")"
      ],
      "metadata": {
        "id": "4DsYxos9lNSb"
      },
      "execution_count": null,
      "outputs": []
    },
    {
      "cell_type": "code",
      "source": [
        "query_result = embeddings.embed_query(\"Hello world\")\n",
        "len(query_result)"
      ],
      "metadata": {
        "id": "ei7kcDF7l0XY"
      },
      "execution_count": null,
      "outputs": []
    },
    {
      "cell_type": "markdown",
      "source": [
        "**Initialise the Pinecone Database Client**"
      ],
      "metadata": {
        "id": "j3irtRlr7d3C"
      }
    },
    {
      "cell_type": "code",
      "source": [
        "import pinecone\n",
        "from langchain.vectorstores import Pinecone\n",
        "\n",
        "# Initialise Pinecone\n",
        "pinecone.init(\n",
        "\tapi_key='removed',\n",
        "\tenvironment='removed'\n",
        ")\n",
        "\n",
        "index_name = \"removed\"\n",
        "index = Pinecone.from_documents(docs, embeddings, index_name=index_name)"
      ],
      "metadata": {
        "id": "489g-z03mZGs"
      },
      "execution_count": 20,
      "outputs": []
    },
    {
      "cell_type": "code",
      "source": [
        "def get_similar_docs(query, k=1, score=False):\n",
        "  if score:\n",
        "    similar_docs = index.similarity_search_with_score(query, k=k)\n",
        "  else:\n",
        "    similar_docs = index.similarity_search(query, k=k)\n",
        "  return similar_docs\n",
        "\n",
        "query = \"Hi, I graduated from SMU in 2022. I would like to access the LKS library\"\n",
        "similar_docs = get_similar_docs(query)\n",
        "print(query)\n",
        "print(similar_docs)"
      ],
      "metadata": {
        "id": "1pcCCImQn2OO"
      },
      "execution_count": null,
      "outputs": []
    }
  ]
}